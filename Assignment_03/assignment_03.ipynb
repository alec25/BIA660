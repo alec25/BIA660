{
 "cells": [
  {
   "cell_type": "heading",
   "metadata": {
    "collapsed": true
   },
   "level": 1,
   "source": [
    "Assignment #3: Supervised Machine Learning"
   ]
  },
  {
   "cell_type": "markdown",
   "metadata": {},
   "source": [
    "First we import required modules and load the data from the .json file to a Pandas DataFrame. We inspect the DataFrame object to determine its properties. "
   ]
  },
  {
   "cell_type": "code",
   "execution_count": 1,
   "metadata": {
    "collapsed": true
   },
   "outputs": [
    {
     "data": {
      "text/html": [
       "<div>\n",
       "<style scoped>\n",
       "    .dataframe tbody tr th:only-of-type {\n",
       "        vertical-align: middle;\n",
       "    }\n",
       "\n",
       "    .dataframe tbody tr th {\n",
       "        vertical-align: top;\n",
       "    }\n",
       "\n",
       "    .dataframe thead th {\n",
       "        text-align: right;\n",
       "    }\n",
       "</style>\n",
       "<table border=\"1\" class=\"dataframe\">\n",
       "  <thead>\n",
       "    <tr style=\"text-align: right;\">\n",
       "      <th></th>\n",
       "      <th>author</th>\n",
       "      <th>body</th>\n",
       "      <th>date</th>\n",
       "      <th>helpful</th>\n",
       "      <th>stars</th>\n",
       "      <th>style</th>\n",
       "      <th>title</th>\n",
       "    </tr>\n",
       "  </thead>\n",
       "  <tbody>\n",
       "    <tr>\n",
       "      <th>0</th>\n",
       "      <td>Gene H.</td>\n",
       "      <td>We were looking for a decent flashlight for ou...</td>\n",
       "      <td>2018-04-11</td>\n",
       "      <td>0</td>\n",
       "      <td>5</td>\n",
       "      <td>LED Flashlight 2P</td>\n",
       "      <td>Great range for a small package</td>\n",
       "    </tr>\n",
       "    <tr>\n",
       "      <th>1</th>\n",
       "      <td>Cwazy Wabbit</td>\n",
       "      <td>Very nice, works great</td>\n",
       "      <td>2018-04-11</td>\n",
       "      <td>0</td>\n",
       "      <td>5</td>\n",
       "      <td>LED Flashlight 2P</td>\n",
       "      <td>Five Stars</td>\n",
       "    </tr>\n",
       "    <tr>\n",
       "      <th>10</th>\n",
       "      <td>David C. Bradford</td>\n",
       "      <td>Sturdy little lights that work every time as a...</td>\n",
       "      <td>2018-04-10</td>\n",
       "      <td>0</td>\n",
       "      <td>5</td>\n",
       "      <td>LED Flashlight 2P</td>\n",
       "      <td>Sturdy little lights that work every time as</td>\n",
       "    </tr>\n",
       "    <tr>\n",
       "      <th>100</th>\n",
       "      <td>MDD</td>\n",
       "      <td>I bought 2 and they worked great for 2-3 weeks...</td>\n",
       "      <td>2018-03-09</td>\n",
       "      <td>0</td>\n",
       "      <td>1</td>\n",
       "      <td>LED Flashlight 2P</td>\n",
       "      <td>I bought 2 and they worked great for 2-3 weeks...</td>\n",
       "    </tr>\n",
       "  </tbody>\n",
       "</table>\n",
       "</div>"
      ],
      "text/plain": [
       "<div>\n",
       "<style scoped>\n",
       "    .dataframe tbody tr th:only-of-type {\n",
       "        vertical-align: middle;\n",
       "    }\n",
       "\n",
       "    .dataframe tbody tr th {\n",
       "        vertical-align: top;\n",
       "    }\n",
       "\n",
       "    .dataframe thead th {\n",
       "        text-align: right;\n",
       "    }\n",
       "</style>\n",
       "<table border=\"1\" class=\"dataframe\">\n",
       "  <thead>\n",
       "    <tr style=\"text-align: right;\">\n",
       "      <th></th>\n",
       "      <th>author</th>\n",
       "      <th>body</th>\n",
       "      <th>date</th>\n",
       "      <th>helpful</th>\n",
       "      <th>stars</th>\n",
       "      <th>style</th>\n",
       "      <th>title</th>\n",
       "    </tr>\n",
       "  </thead>\n",
       "  <tbody>\n",
       "    <tr>\n",
       "      <th>0</th>\n",
       "      <td>Gene H.</td>\n",
       "      <td>We were looking for a decent flashlight for ou...</td>\n",
       "      <td>2018-04-11</td>\n",
       "      <td>0</td>\n",
       "      <td>5</td>\n",
       "      <td>LED Flashlight 2P</td>\n",
       "      <td>Great range for a small package</td>\n",
       "    </tr>\n",
       "    <tr>\n",
       "      <th>1</th>\n",
       "      <td>Cwazy Wabbit</td>\n",
       "      <td>Very nice, works great</td>\n",
       "      <td>2018-04-11</td>\n",
       "      <td>0</td>\n",
       "      <td>5</td>\n",
       "      <td>LED Flashlight 2P</td>\n",
       "      <td>Five Stars</td>\n",
       "    </tr>\n",
       "    <tr>\n",
       "      <th>10</th>\n",
       "      <td>David C. Bradford</td>\n",
       "      <td>Sturdy little lights that work every time as a...</td>\n",
       "      <td>2018-04-10</td>\n",
       "      <td>0</td>\n",
       "      <td>5</td>\n",
       "      <td>LED Flashlight 2P</td>\n",
       "      <td>Sturdy little lights that work every time as</td>\n",
       "    </tr>\n",
       "    <tr>\n",
       "      <th>100</th>\n",
       "      <td>MDD</td>\n",
       "      <td>I bought 2 and they worked great for 2-3 weeks...</td>\n",
       "      <td>2018-03-09</td>\n",
       "      <td>0</td>\n",
       "      <td>1</td>\n",
       "      <td>LED Flashlight 2P</td>\n",
       "      <td>I bought 2 and they worked great for 2-3 weeks...</td>\n",
       "    </tr>\n",
       "  </tbody>\n",
       "</table>\n",
       "</div>"
      ]
     },
     "execution_count": 1,
     "metadata": {},
     "output_type": "execute_result"
    }
   ],
   "source": [
    "import pandas as pd\n",
    "from datetime import datetime\n",
    "data = pd.read_json(\"Assignment_03/reviews.json\") # Data import \n",
    "data['date'] = data['date'].apply(lambda x: datetime.fromordinal(x)) # Date conversion\n",
    "data.head(4)"
   ]
  },
  {
   "cell_type": "markdown",
   "metadata": {},
   "source": [
    "The dataframe is of the shape `(833, 7)` and its axes are: `['author', 'body', 'date', 'helpful', 'stars', 'style', 'title']`"
   ]
  },
  {
   "cell_type": "code",
   "execution_count": 2,
   "metadata": {
    "collapsed": false
   },
   "outputs": [
    {
     "name": "stdout",
     "output_type": "stream",
     "text": [
      "The most frequent term is 'bright' and it occurs 218 times in the training corpus.\n"
     ]
    }
   ],
   "source": [
    "from sklearn.feature_extraction.text import CountVectorizer\n",
    "from sklearn.model_selection import train_test_split\n",
    "body_list = data['body'].tolist()\n",
    "rating_list = data['stars'].tolist()\n",
    "x_train, x_test, y_train, y_test = train_test_split(body_list, rating_list, test_size=0.2, random_state=1)\n",
    "vectorizer = CountVectorizer(lowercase=True, strip_accents='ascii', stop_words='english', min_df=0.01, max_df=0.9, binary=True)\n",
    "vectorizer = vectorizer.fit(x_train)\n",
    "x_train = vectorizer.transform(x_train) #just do .toarray() here?\n",
    "x_test = vectorizer.transform(x_test)\n",
    "total_word_counts = [sum(word_count) for word_count in zip(*x_train.toarray())]\n",
    "word_frequencies = dict(zip(vectorizer.get_feature_names(), total_word_counts))\n",
    "most_frequent_term = max(word_frequencies, key = word_frequencies.get)\n",
    "print(\"The most frequent term is '\" + most_frequent_term + \"' and it occurs \" + str(word_frequencies[most_frequent_term]) + \" times in the training corpus.\")"
   ]
  },
  {
   "cell_type": "markdown",
   "metadata": {},
   "source": [
    "The dataframe is of the shape `(833, 7)` and its axes are: `['author', 'body', 'date', 'helpful', 'stars', 'style', 'title']`"
   ]
  },
  {
   "cell_type": "code",
   "execution_count": 8,
   "metadata": {},
   "outputs": [
    {
     "data": {
      "text/html": [
       "<div id=\"d38eca59-ff42-4108-9229-d1a8ec4ebcd9\" style=\"height: 525px; width: 100%;\" class=\"plotly-graph-div\"></div><script type=\"text/javascript\">require([\"plotly\"], function(Plotly) { window.PLOTLYENV=window.PLOTLYENV || {};window.PLOTLYENV.BASE_URL=\"https://plot.ly\";Plotly.newPlot(\"d38eca59-ff42-4108-9229-d1a8ec4ebcd9\", [{\"type\": \"bar\", \"x\": [24, 90, 115, 82, 81], \"y\": [32, 13, 33, 30, 28], \"name\": \"bot\", \"text\": \"\", \"marker\": {\"color\": \"rgba(226, 74, 51, 0.6)\", \"line\": {\"color\": \"rgba(226, 74, 51, 1.0)\", \"width\": 1}}, \"orientation\": \"v\"}, {\"type\": \"bar\", \"x\": [24, 90, 115, 82, 81], \"y\": [186, 170, 149, 115, 97], \"name\": \"top\", \"text\": \"\", \"marker\": {\"color\": \"rgba(62, 111, 176, 0.6)\", \"line\": {\"color\": \"rgba(62, 111, 176, 1.0)\", \"width\": 1}}, \"orientation\": \"v\"}, {\"type\": \"bar\", \"x\": [24, 90, 115, 82, 81], \"y\": [\"bright\", \"great\", \"light\", \"flashlights\", \"flashlight\"], \"name\": \"word\", \"text\": \"\", \"marker\": {\"color\": \"rgba(132, 118, 202, 0.6)\", \"line\": {\"color\": \"rgba(132, 118, 202, 1.0)\", \"width\": 1}}, \"orientation\": \"v\"}], {\"legend\": {\"bgcolor\": \"#FFFFFF\", \"font\": {\"color\": \"#666666\"}}, \"paper_bgcolor\": \"#FFFFFF\", \"plot_bgcolor\": \"#E5E5E5\", \"yaxis1\": {\"tickfont\": {\"color\": \"#666666\"}, \"gridcolor\": \"#F6F6F6\", \"titlefont\": {\"color\": \"#666666\"}, \"zerolinecolor\": \"#F6F6F6\", \"showgrid\": true, \"title\": \"\"}, \"xaxis1\": {\"tickfont\": {\"color\": \"#666666\"}, \"gridcolor\": \"#F6F6F6\", \"titlefont\": {\"color\": \"#666666\"}, \"zerolinecolor\": \"#F6F6F6\", \"showgrid\": true, \"title\": \"\"}, \"titlefont\": {\"color\": \"#151516\"}}, {\"showLink\": true, \"linkText\": \"Export to plot.ly\"})});</script>"
      ],
      "text/plain": [
       "<div id=\"d38eca59-ff42-4108-9229-d1a8ec4ebcd9\" style=\"height: 525px; width: 100%;\" class=\"plotly-graph-div\"></div><script type=\"text/javascript\">require([\"plotly\"], function(Plotly) { window.PLOTLYENV=window.PLOTLYENV || {};window.PLOTLYENV.BASE_URL=\"https://plot.ly\";Plotly.newPlot(\"d38eca59-ff42-4108-9229-d1a8ec4ebcd9\", [{\"type\": \"bar\", \"x\": [24, 90, 115, 82, 81], \"y\": [32, 13, 33, 30, 28], \"name\": \"bot\", \"text\": \"\", \"marker\": {\"color\": \"rgba(226, 74, 51, 0.6)\", \"line\": {\"color\": \"rgba(226, 74, 51, 1.0)\", \"width\": 1}}, \"orientation\": \"v\"}, {\"type\": \"bar\", \"x\": [24, 90, 115, 82, 81], \"y\": [186, 170, 149, 115, 97], \"name\": \"top\", \"text\": \"\", \"marker\": {\"color\": \"rgba(62, 111, 176, 0.6)\", \"line\": {\"color\": \"rgba(62, 111, 176, 1.0)\", \"width\": 1}}, \"orientation\": \"v\"}, {\"type\": \"bar\", \"x\": [24, 90, 115, 82, 81], \"y\": [\"bright\", \"great\", \"light\", \"flashlights\", \"flashlight\"], \"name\": \"word\", \"text\": \"\", \"marker\": {\"color\": \"rgba(132, 118, 202, 0.6)\", \"line\": {\"color\": \"rgba(132, 118, 202, 1.0)\", \"width\": 1}}, \"orientation\": \"v\"}], {\"legend\": {\"bgcolor\": \"#FFFFFF\", \"font\": {\"color\": \"#666666\"}}, \"paper_bgcolor\": \"#FFFFFF\", \"plot_bgcolor\": \"#E5E5E5\", \"yaxis1\": {\"tickfont\": {\"color\": \"#666666\"}, \"gridcolor\": \"#F6F6F6\", \"titlefont\": {\"color\": \"#666666\"}, \"zerolinecolor\": \"#F6F6F6\", \"showgrid\": true, \"title\": \"\"}, \"xaxis1\": {\"tickfont\": {\"color\": \"#666666\"}, \"gridcolor\": \"#F6F6F6\", \"titlefont\": {\"color\": \"#666666\"}, \"zerolinecolor\": \"#F6F6F6\", \"showgrid\": true, \"title\": \"\"}, \"titlefont\": {\"color\": \"#151516\"}}, {\"showLink\": true, \"linkText\": \"Export to plot.ly\"})});</script>"
      ]
     },
     "execution_count": 0,
     "metadata": {},
     "output_type": "execute_result"
    }
   ],
   "source": [
    "import plotly.plotly as py\n",
    "import cufflinks as cf\n",
    "top_indexes = [i for i, x in enumerate(y_train) if x>=4]\n",
    "bot_indexes = [i for i, x in enumerate(y_train) if x<4]\n",
    "top_reviews = x_train.toarray()[top_indexes]\n",
    "bot_reviews = x_train.toarray()[bot_indexes]\n",
    "top_word_counts = [sum(word_count) for word_count in zip(*top_reviews)]\n",
    "bot_word_counts = [sum(word_count) for word_count in zip(*bot_reviews)]\n",
    "top_bot_word_counts = pd.DataFrame({\"word\": vectorizer.get_feature_names(), \"top\": top_word_counts, \"bot\": bot_word_counts})\n",
    "top_bot_word_counts.sort_values('top', ascending=False)[:5].iplot(kind='bar', filename='cufflinks/grouped-bar-chart') #'jupyter/styled_bar'\n",
    "# top_bot_word_counts.sort_values('top', ascending=False)[:5].iplot(kind='bar', filename='jupyter/styled_bar') "
   ]
  },
  {
   "cell_type": "code",
   "execution_count": null,
   "metadata": {},
   "outputs": [],
   "source": []
  }
 ],
 "metadata": {
  "kernelspec": {
   "display_name": "Python 2",
   "language": "python",
   "name": "python2"
  },
  "language_info": {
   "codemirror_mode": {
    "name": "ipython",
    "version": 2
   },
   "file_extension": ".py",
   "mimetype": "text/x-python",
   "name": "python",
   "nbconvert_exporter": "python",
   "pygments_lexer": "ipython2",
   "version": "2.7.6"
  }
 },
 "nbformat": 4,
 "nbformat_minor": 0
}
