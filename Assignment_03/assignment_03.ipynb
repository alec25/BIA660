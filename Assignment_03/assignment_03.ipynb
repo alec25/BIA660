{
 "cells": [
  {
   "cell_type": "heading",
   "metadata": {
    "collapsed": true
   },
   "level": 1,
   "source": [
    "Assignment #3: Supervised Machine Learning"
   ]
  },
  {
   "cell_type": "markdown",
   "metadata": {},
   "source": [
    "First we import required modules and load the data from the .json file to a Pandas DataFrame. We inspect the DataFrame object to determine its properties. "
   ]
  },
  {
   "cell_type": "code",
   "execution_count": 9,
   "metadata": {},
   "outputs": [
    {
     "data": {
      "text/plain": [
       "(833, 7)"
      ]
     },
     "execution_count": 9,
     "metadata": {},
     "output_type": "execute_result"
    }
   ],
   "source": [
    "import pandas as pd\n",
    "data = pd.read_json(\"Assignment_03/reviews.json\")\n",
    "data.shape"
   ]
  },
  {
   "cell_type": "code",
   "execution_count": 12,
   "metadata": {},
   "outputs": [
    {
     "data": {
      "text/plain": [
       "['author', 'body', 'date', 'helpful', 'stars', 'style', 'title']"
      ]
     },
     "execution_count": 12,
     "metadata": {},
     "output_type": "execute_result"
    }
   ],
   "source": [
    "data.axes[1].tolist()"
   ]
  },
  {
   "cell_type": "code",
   "execution_count": 11,
   "metadata": {},
   "outputs": [
    {
     "data": {
      "text/html": [
       "<div>\n",
       "<style scoped>\n",
       "    .dataframe tbody tr th:only-of-type {\n",
       "        vertical-align: middle;\n",
       "    }\n",
       "\n",
       "    .dataframe tbody tr th {\n",
       "        vertical-align: top;\n",
       "    }\n",
       "\n",
       "    .dataframe thead th {\n",
       "        text-align: right;\n",
       "    }\n",
       "</style>\n",
       "<table border=\"1\" class=\"dataframe\">\n",
       "  <thead>\n",
       "    <tr style=\"text-align: right;\">\n",
       "      <th></th>\n",
       "      <th>author</th>\n",
       "      <th>body</th>\n",
       "      <th>date</th>\n",
       "      <th>helpful</th>\n",
       "      <th>stars</th>\n",
       "      <th>style</th>\n",
       "      <th>title</th>\n",
       "    </tr>\n",
       "  </thead>\n",
       "  <tbody>\n",
       "    <tr>\n",
       "      <th>0</th>\n",
       "      <td>Gene H.</td>\n",
       "      <td>We were looking for a decent flashlight for ou...</td>\n",
       "      <td>736795</td>\n",
       "      <td>0</td>\n",
       "      <td>5</td>\n",
       "      <td>LED Flashlight 2P</td>\n",
       "      <td>Great range for a small package</td>\n",
       "    </tr>\n",
       "    <tr>\n",
       "      <th>1</th>\n",
       "      <td>Cwazy Wabbit</td>\n",
       "      <td>Very nice, works great</td>\n",
       "      <td>736795</td>\n",
       "      <td>0</td>\n",
       "      <td>5</td>\n",
       "      <td>LED Flashlight 2P</td>\n",
       "      <td>Five Stars</td>\n",
       "    </tr>\n",
       "    <tr>\n",
       "      <th>10</th>\n",
       "      <td>David C. Bradford</td>\n",
       "      <td>Sturdy little lights that work every time as a...</td>\n",
       "      <td>736794</td>\n",
       "      <td>0</td>\n",
       "      <td>5</td>\n",
       "      <td>LED Flashlight 2P</td>\n",
       "      <td>Sturdy little lights that work every time as</td>\n",
       "    </tr>\n",
       "    <tr>\n",
       "      <th>100</th>\n",
       "      <td>MDD</td>\n",
       "      <td>I bought 2 and they worked great for 2-3 weeks...</td>\n",
       "      <td>736762</td>\n",
       "      <td>0</td>\n",
       "      <td>1</td>\n",
       "      <td>LED Flashlight 2P</td>\n",
       "      <td>I bought 2 and they worked great for 2-3 weeks...</td>\n",
       "    </tr>\n",
       "    <tr>\n",
       "      <th>101</th>\n",
       "      <td>Eric</td>\n",
       "      <td>Very bright flashlight. Used at the beach walk...</td>\n",
       "      <td>736757</td>\n",
       "      <td>0</td>\n",
       "      <td>5</td>\n",
       "      <td>LED Flashlight 2P</td>\n",
       "      <td>Good flashlights for the price</td>\n",
       "    </tr>\n",
       "  </tbody>\n",
       "</table>\n",
       "</div>"
      ],
      "text/plain": [
       "<div>\n",
       "<style scoped>\n",
       "    .dataframe tbody tr th:only-of-type {\n",
       "        vertical-align: middle;\n",
       "    }\n",
       "\n",
       "    .dataframe tbody tr th {\n",
       "        vertical-align: top;\n",
       "    }\n",
       "\n",
       "    .dataframe thead th {\n",
       "        text-align: right;\n",
       "    }\n",
       "</style>\n",
       "<table border=\"1\" class=\"dataframe\">\n",
       "  <thead>\n",
       "    <tr style=\"text-align: right;\">\n",
       "      <th></th>\n",
       "      <th>author</th>\n",
       "      <th>body</th>\n",
       "      <th>date</th>\n",
       "      <th>helpful</th>\n",
       "      <th>stars</th>\n",
       "      <th>style</th>\n",
       "      <th>title</th>\n",
       "    </tr>\n",
       "  </thead>\n",
       "  <tbody>\n",
       "    <tr>\n",
       "      <th>0</th>\n",
       "      <td>Gene H.</td>\n",
       "      <td>We were looking for a decent flashlight for ou...</td>\n",
       "      <td>736795</td>\n",
       "      <td>0</td>\n",
       "      <td>5</td>\n",
       "      <td>LED Flashlight 2P</td>\n",
       "      <td>Great range for a small package</td>\n",
       "    </tr>\n",
       "    <tr>\n",
       "      <th>1</th>\n",
       "      <td>Cwazy Wabbit</td>\n",
       "      <td>Very nice, works great</td>\n",
       "      <td>736795</td>\n",
       "      <td>0</td>\n",
       "      <td>5</td>\n",
       "      <td>LED Flashlight 2P</td>\n",
       "      <td>Five Stars</td>\n",
       "    </tr>\n",
       "    <tr>\n",
       "      <th>10</th>\n",
       "      <td>David C. Bradford</td>\n",
       "      <td>Sturdy little lights that work every time as a...</td>\n",
       "      <td>736794</td>\n",
       "      <td>0</td>\n",
       "      <td>5</td>\n",
       "      <td>LED Flashlight 2P</td>\n",
       "      <td>Sturdy little lights that work every time as</td>\n",
       "    </tr>\n",
       "    <tr>\n",
       "      <th>100</th>\n",
       "      <td>MDD</td>\n",
       "      <td>I bought 2 and they worked great for 2-3 weeks...</td>\n",
       "      <td>736762</td>\n",
       "      <td>0</td>\n",
       "      <td>1</td>\n",
       "      <td>LED Flashlight 2P</td>\n",
       "      <td>I bought 2 and they worked great for 2-3 weeks...</td>\n",
       "    </tr>\n",
       "    <tr>\n",
       "      <th>101</th>\n",
       "      <td>Eric</td>\n",
       "      <td>Very bright flashlight. Used at the beach walk...</td>\n",
       "      <td>736757</td>\n",
       "      <td>0</td>\n",
       "      <td>5</td>\n",
       "      <td>LED Flashlight 2P</td>\n",
       "      <td>Good flashlights for the price</td>\n",
       "    </tr>\n",
       "  </tbody>\n",
       "</table>\n",
       "</div>"
      ]
     },
     "execution_count": 11,
     "metadata": {},
     "output_type": "execute_result"
    }
   ],
   "source": [
    "data.head(4)"
   ]
  },
  {
   "cell_type": "code",
   "execution_count": null,
   "metadata": {},
   "outputs": [],
   "source": []
  }
 ],
 "metadata": {
  "kernelspec": {
   "display_name": "Python 2",
   "language": "python",
   "name": "python2"
  },
  "language_info": {
   "codemirror_mode": {
    "name": "ipython",
    "version": 2
   },
   "file_extension": ".py",
   "mimetype": "text/x-python",
   "name": "python",
   "nbconvert_exporter": "python",
   "pygments_lexer": "ipython2",
   "version": "2.7.6"
  }
 },
 "nbformat": 4,
 "nbformat_minor": 0
}
