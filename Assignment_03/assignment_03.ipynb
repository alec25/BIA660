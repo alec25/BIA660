{
 "cells": [
  {
   "cell_type": "heading",
   "metadata": {
    "collapsed": true
   },
   "level": 1,
   "source": [
    "Assignment #3: Supervised Machine Learning"
   ]
  },
  {
   "cell_type": "markdown",
   "metadata": {},
   "source": [
    "First we import required modules and load the data from the .json file to a Pandas DataFrame. We inspect the DataFrame object to determine its properties. "
   ]
  },
  {
   "cell_type": "code",
   "execution_count": 1,
   "metadata": {
    "collapsed": true
   },
   "outputs": [
    {
     "data": {
      "text/html": [
       "<div>\n",
       "<style scoped>\n",
       "    .dataframe tbody tr th:only-of-type {\n",
       "        vertical-align: middle;\n",
       "    }\n",
       "\n",
       "    .dataframe tbody tr th {\n",
       "        vertical-align: top;\n",
       "    }\n",
       "\n",
       "    .dataframe thead th {\n",
       "        text-align: right;\n",
       "    }\n",
       "</style>\n",
       "<table border=\"1\" class=\"dataframe\">\n",
       "  <thead>\n",
       "    <tr style=\"text-align: right;\">\n",
       "      <th></th>\n",
       "      <th>author</th>\n",
       "      <th>body</th>\n",
       "      <th>date</th>\n",
       "      <th>helpful</th>\n",
       "      <th>stars</th>\n",
       "      <th>style</th>\n",
       "      <th>title</th>\n",
       "    </tr>\n",
       "  </thead>\n",
       "  <tbody>\n",
       "    <tr>\n",
       "      <th>0</th>\n",
       "      <td>Gene H.</td>\n",
       "      <td>We were looking for a decent flashlight for ou...</td>\n",
       "      <td>2018-04-11</td>\n",
       "      <td>0</td>\n",
       "      <td>5</td>\n",
       "      <td>LED Flashlight 2P</td>\n",
       "      <td>Great range for a small package</td>\n",
       "    </tr>\n",
       "    <tr>\n",
       "      <th>1</th>\n",
       "      <td>Cwazy Wabbit</td>\n",
       "      <td>Very nice, works great</td>\n",
       "      <td>2018-04-11</td>\n",
       "      <td>0</td>\n",
       "      <td>5</td>\n",
       "      <td>LED Flashlight 2P</td>\n",
       "      <td>Five Stars</td>\n",
       "    </tr>\n",
       "    <tr>\n",
       "      <th>10</th>\n",
       "      <td>David C. Bradford</td>\n",
       "      <td>Sturdy little lights that work every time as a...</td>\n",
       "      <td>2018-04-10</td>\n",
       "      <td>0</td>\n",
       "      <td>5</td>\n",
       "      <td>LED Flashlight 2P</td>\n",
       "      <td>Sturdy little lights that work every time as</td>\n",
       "    </tr>\n",
       "    <tr>\n",
       "      <th>100</th>\n",
       "      <td>MDD</td>\n",
       "      <td>I bought 2 and they worked great for 2-3 weeks...</td>\n",
       "      <td>2018-03-09</td>\n",
       "      <td>0</td>\n",
       "      <td>1</td>\n",
       "      <td>LED Flashlight 2P</td>\n",
       "      <td>I bought 2 and they worked great for 2-3 weeks...</td>\n",
       "    </tr>\n",
       "  </tbody>\n",
       "</table>\n",
       "</div>"
      ],
      "text/plain": [
       "<div>\n",
       "<style scoped>\n",
       "    .dataframe tbody tr th:only-of-type {\n",
       "        vertical-align: middle;\n",
       "    }\n",
       "\n",
       "    .dataframe tbody tr th {\n",
       "        vertical-align: top;\n",
       "    }\n",
       "\n",
       "    .dataframe thead th {\n",
       "        text-align: right;\n",
       "    }\n",
       "</style>\n",
       "<table border=\"1\" class=\"dataframe\">\n",
       "  <thead>\n",
       "    <tr style=\"text-align: right;\">\n",
       "      <th></th>\n",
       "      <th>author</th>\n",
       "      <th>body</th>\n",
       "      <th>date</th>\n",
       "      <th>helpful</th>\n",
       "      <th>stars</th>\n",
       "      <th>style</th>\n",
       "      <th>title</th>\n",
       "    </tr>\n",
       "  </thead>\n",
       "  <tbody>\n",
       "    <tr>\n",
       "      <th>0</th>\n",
       "      <td>Gene H.</td>\n",
       "      <td>We were looking for a decent flashlight for ou...</td>\n",
       "      <td>2018-04-11</td>\n",
       "      <td>0</td>\n",
       "      <td>5</td>\n",
       "      <td>LED Flashlight 2P</td>\n",
       "      <td>Great range for a small package</td>\n",
       "    </tr>\n",
       "    <tr>\n",
       "      <th>1</th>\n",
       "      <td>Cwazy Wabbit</td>\n",
       "      <td>Very nice, works great</td>\n",
       "      <td>2018-04-11</td>\n",
       "      <td>0</td>\n",
       "      <td>5</td>\n",
       "      <td>LED Flashlight 2P</td>\n",
       "      <td>Five Stars</td>\n",
       "    </tr>\n",
       "    <tr>\n",
       "      <th>10</th>\n",
       "      <td>David C. Bradford</td>\n",
       "      <td>Sturdy little lights that work every time as a...</td>\n",
       "      <td>2018-04-10</td>\n",
       "      <td>0</td>\n",
       "      <td>5</td>\n",
       "      <td>LED Flashlight 2P</td>\n",
       "      <td>Sturdy little lights that work every time as</td>\n",
       "    </tr>\n",
       "    <tr>\n",
       "      <th>100</th>\n",
       "      <td>MDD</td>\n",
       "      <td>I bought 2 and they worked great for 2-3 weeks...</td>\n",
       "      <td>2018-03-09</td>\n",
       "      <td>0</td>\n",
       "      <td>1</td>\n",
       "      <td>LED Flashlight 2P</td>\n",
       "      <td>I bought 2 and they worked great for 2-3 weeks...</td>\n",
       "    </tr>\n",
       "  </tbody>\n",
       "</table>\n",
       "</div>"
      ]
     },
     "execution_count": 1,
     "metadata": {},
     "output_type": "execute_result"
    }
   ],
   "source": [
    "import pandas as pd\n",
    "from datetime import datetime\n",
    "data = pd.read_json(\"Assignment_03/reviews.json\") # Data import \n",
    "data['date'] = data['date'].apply(lambda x: datetime.fromordinal(x)) # Date conversion\n",
    "data.head(4)"
   ]
  },
  {
   "cell_type": "markdown",
   "metadata": {},
   "source": [
    "The dataframe is of the shape `(833, 7)` and its axes are: `['author', 'body', 'date', 'helpful', 'stars', 'style', 'title']`"
   ]
  },
  {
   "cell_type": "code",
   "execution_count": 2,
   "metadata": {
    "collapsed": false
   },
   "outputs": [
    {
     "name": "stdout",
     "output_type": "stream",
     "text": [
      "The most frequent term is 'bright' and it occurs 218 times in the training corpus.\n"
     ]
    }
   ],
   "source": [
    "from sklearn.feature_extraction.text import CountVectorizer\n",
    "from sklearn.model_selection import train_test_split\n",
    "body_list = data['body'].tolist()\n",
    "rating_list = data['stars'].tolist()\n",
    "x_train, x_test, y_train, y_test = train_test_split(body_list, rating_list, test_size=0.2, random_state=1)\n",
    "vectorizer = CountVectorizer(lowercase=True, strip_accents='ascii', stop_words='english', min_df=0.01, max_df=0.9, binary=True)\n",
    "vectorizer = vectorizer.fit(x_train)\n",
    "x_train = vectorizer.transform(x_train) #just do .toarray() here?\n",
    "x_test = vectorizer.transform(x_test)\n",
    "total_word_counts = [sum(word_count) for word_count in zip(*x_train.toarray())]\n",
    "word_frequencies = dict(zip(vectorizer.get_feature_names(), total_word_counts))\n",
    "most_frequent_term = max(word_frequencies, key = word_frequencies.get)\n",
    "print(\"The most frequent term is '\" + most_frequent_term + \"' and it occurs \" + str(word_frequencies[most_frequent_term]) + \" times in the training corpus.\")"
   ]
  },
  {
   "cell_type": "markdown",
   "metadata": {},
   "source": [
    "The dataframe is of the shape `(833, 7)` and its axes are: `['author', 'body', 'date', 'helpful', 'stars', 'style', 'title']`"
   ]
  },
  {
   "cell_type": "code",
   "execution_count": 2,
   "metadata": {},
   "outputs": [
    {
     "ename": "NameError",
     "evalue": "name 'y_train' is not defined",
     "traceback": [
      "\u001b[1;31m---------------------------------------------------------------------------\u001b[0m",
      "\u001b[1;31mNameError\u001b[0m                                 Traceback (most recent call last)",
      "\u001b[1;32m<ipython-input-2-071da07c3d78>\u001b[0m in \u001b[0;36m<module>\u001b[1;34m()\u001b[0m\n\u001b[0;32m      2\u001b[0m \u001b[1;32mimport\u001b[0m \u001b[0mcufflinks\u001b[0m \u001b[1;32mas\u001b[0m \u001b[0mcf\u001b[0m\u001b[1;33m\u001b[0m\u001b[0m\n\u001b[0;32m      3\u001b[0m \u001b[1;33m\u001b[0m\u001b[0m\n\u001b[1;32m----> 4\u001b[1;33m \u001b[0mtop_indexes\u001b[0m \u001b[1;33m=\u001b[0m \u001b[1;33m[\u001b[0m\u001b[0mi\u001b[0m \u001b[1;32mfor\u001b[0m \u001b[0mi\u001b[0m\u001b[1;33m,\u001b[0m \u001b[0mx\u001b[0m \u001b[1;32min\u001b[0m \u001b[0menumerate\u001b[0m\u001b[1;33m(\u001b[0m\u001b[0my_train\u001b[0m\u001b[1;33m)\u001b[0m \u001b[1;32mif\u001b[0m \u001b[0mx\u001b[0m\u001b[1;33m>=\u001b[0m\u001b[1;36m4\u001b[0m\u001b[1;33m]\u001b[0m\u001b[1;33m\u001b[0m\u001b[0m\n\u001b[0m\u001b[0;32m      5\u001b[0m \u001b[0mbot_indexes\u001b[0m \u001b[1;33m=\u001b[0m \u001b[1;33m[\u001b[0m\u001b[0mi\u001b[0m \u001b[1;32mfor\u001b[0m \u001b[0mi\u001b[0m\u001b[1;33m,\u001b[0m \u001b[0mx\u001b[0m \u001b[1;32min\u001b[0m \u001b[0menumerate\u001b[0m\u001b[1;33m(\u001b[0m\u001b[0my_train\u001b[0m\u001b[1;33m)\u001b[0m \u001b[1;32mif\u001b[0m \u001b[0mx\u001b[0m\u001b[1;33m<\u001b[0m\u001b[1;36m4\u001b[0m\u001b[1;33m]\u001b[0m\u001b[1;33m\u001b[0m\u001b[0m\n\u001b[0;32m      6\u001b[0m \u001b[0mtop_reviews\u001b[0m \u001b[1;33m=\u001b[0m \u001b[0mx_train\u001b[0m\u001b[1;33m.\u001b[0m\u001b[0mtoarray\u001b[0m\u001b[1;33m(\u001b[0m\u001b[1;33m)\u001b[0m\u001b[1;33m[\u001b[0m\u001b[0mtop_indexes\u001b[0m\u001b[1;33m]\u001b[0m\u001b[1;33m\u001b[0m\u001b[0m\n",
      "\u001b[1;31mNameError\u001b[0m: name 'y_train' is not defined"
     ],
     "output_type": "error"
    }
   ],
   "source": [
    "import plotly.plotly as py\n",
    "import cufflinks as cf\n",
    "from plotly.graph_objs import *\n",
    "top_indexes = [i for i, x in enumerate(y_train) if x>=4]\n",
    "bot_indexes = [i for i, x in enumerate(y_train) if x<4]\n",
    "top_reviews = x_train.toarray()[top_indexes]\n",
    "bot_reviews = x_train.toarray()[bot_indexes]\n",
    "top_word_counts = [sum(word_count) for word_count in zip(*top_reviews)]\n",
    "bot_word_counts = [sum(word_count) for word_count in zip(*bot_reviews)]\n",
    "top_bot_word_counts = pd.DataFrame({\"word\": vectorizer.get_feature_names(), \"top\": top_word_counts, \"bot\": bot_word_counts})\n",
    "top_bot_word_counts.sort_values('top', ascending=False)[:5].iplot(kind='bar', filename='cufflinks/grouped-bar-chart') #'jupyter/styled_bar'\n",
    "# top_bot_word_counts.sort_values('top', ascending=False)[:5].iplot(kind='bar', filename='jupyter/styled_bar') "
   ]
  },
  {
   "cell_type": "code",
   "execution_count": null,
   "metadata": {},
   "outputs": [],
   "source": []
  }
 ],
 "metadata": {
  "kernelspec": {
   "display_name": "Python 2",
   "language": "python",
   "name": "python2"
  },
  "language_info": {
   "codemirror_mode": {
    "name": "ipython",
    "version": 2
   },
   "file_extension": ".py",
   "mimetype": "text/x-python",
   "name": "python",
   "nbconvert_exporter": "python",
   "pygments_lexer": "ipython2",
   "version": "2.7.6"
  }
 },
 "nbformat": 4,
 "nbformat_minor": 0
}
